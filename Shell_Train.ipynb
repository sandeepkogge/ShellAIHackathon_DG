{
 "cells": [
  {
   "cell_type": "code",
   "execution_count": 1,
   "metadata": {},
   "outputs": [],
   "source": [
    "import pandas as pd\n",
    "import numpy as np\n",
    "import matplotlib.pyplot as plt"
   ]
  },
  {
   "cell_type": "code",
   "execution_count": 2,
   "metadata": {},
   "outputs": [],
   "source": [
    "train = pd.read_csv(\"train.csv\", sep = \",\", encoding = \"utf-8\")"
   ]
  },
  {
   "cell_type": "code",
   "execution_count": 3,
   "metadata": {},
   "outputs": [
    {
     "data": {
      "text/plain": [
       "Index(['DATE (MM/DD)', 'MST', 'Global CMP22 (vent/cor) [W/m^2]',\n",
       "       'Direct sNIP [W/m^2]', 'Azimuth Angle [degrees]',\n",
       "       'Tower Dry Bulb Temp [deg C]', 'Tower Wet Bulb Temp [deg C]',\n",
       "       'Tower Dew Point Temp [deg C]', 'Tower RH [%]', 'Total Cloud Cover [%]',\n",
       "       'Peak Wind Speed @ 6ft [m/s]', 'Avg Wind Direction @ 6ft [deg from N]',\n",
       "       'Station Pressure [mBar]', 'Precipitation (Accumulated) [mm]',\n",
       "       'Snow Depth [cm]', 'Moisture', 'Albedo (CMP11)'],\n",
       "      dtype='object')"
      ]
     },
     "execution_count": 3,
     "metadata": {},
     "output_type": "execute_result"
    }
   ],
   "source": [
    "train.columns"
   ]
  },
  {
   "cell_type": "code",
   "execution_count": 4,
   "metadata": {},
   "outputs": [
    {
     "data": {
      "text/plain": [
       "(527040, 17)"
      ]
     },
     "execution_count": 4,
     "metadata": {},
     "output_type": "execute_result"
    }
   ],
   "source": [
    "train.shape"
   ]
  },
  {
   "cell_type": "code",
   "execution_count": 5,
   "metadata": {},
   "outputs": [],
   "source": [
    "train.loc[train['Total Cloud Cover [%]']< 0,'Total Cloud Cover [%]'] = 0"
   ]
  },
  {
   "cell_type": "code",
   "execution_count": 6,
   "metadata": {},
   "outputs": [],
   "source": [
    "train[\"30m\"] = train[\"Total Cloud Cover [%]\"].shift(-30)\n",
    "train[\"60m\"] = train[\"Total Cloud Cover [%]\"].shift(-60)\n",
    "train[\"90m\"] = train[\"Total Cloud Cover [%]\"].shift(-90)\n",
    "train[\"120m\"] = train[\"Total Cloud Cover [%]\"].shift(-120)"
   ]
  },
  {
   "cell_type": "code",
   "execution_count": 7,
   "metadata": {},
   "outputs": [],
   "source": [
    "train[\"Global CMP22 (vent/cor) [W/m^2] 1h\"] = train[\"Global CMP22 (vent/cor) [W/m^2]\"].shift(60)\n",
    "train[\"Global CMP22 (vent/cor) [W/m^2] 2h\"] = train[\"Global CMP22 (vent/cor) [W/m^2]\"].shift(120)\n",
    "train[\"Global CMP22 (vent/cor) [W/m^2] 3h\"] = train[\"Global CMP22 (vent/cor) [W/m^2]\"].shift(180)\n",
    "train[\"Global CMP22 (vent/cor) [W/m^2] 4h\"] = train[\"Global CMP22 (vent/cor) [W/m^2]\"].shift(240)\n",
    "train[\"Global CMP22 (vent/cor) [W/m^2] 5h\"] = train[\"Global CMP22 (vent/cor) [W/m^2]\"].shift(300)\n",
    "train[\"Global CMP22 (vent/cor) [W/m^2] 6h\"] = train[\"Global CMP22 (vent/cor) [W/m^2]\"].shift(360)\n",
    "\n",
    "train[\"Global CMP22 (vent/cor) [W/m^2] 0.5h\"] = train[\"Global CMP22 (vent/cor) [W/m^2]\"].shift(30)\n",
    "train[\"Global CMP22 (vent/cor) [W/m^2] 1.5h\"] = train[\"Global CMP22 (vent/cor) [W/m^2]\"].shift(90)\n",
    "train[\"Global CMP22 (vent/cor) [W/m^2] 2.5h\"] = train[\"Global CMP22 (vent/cor) [W/m^2]\"].shift(150)\n",
    "train[\"Global CMP22 (vent/cor) [W/m^2] 3.5h\"] = train[\"Global CMP22 (vent/cor) [W/m^2]\"].shift(210)\n",
    "train[\"Global CMP22 (vent/cor) [W/m^2] 4.5h\"] = train[\"Global CMP22 (vent/cor) [W/m^2]\"].shift(270)\n",
    "train[\"Global CMP22 (vent/cor) [W/m^2] 5.5h\"] = train[\"Global CMP22 (vent/cor) [W/m^2]\"].shift(330)"
   ]
  },
  {
   "cell_type": "code",
   "execution_count": 8,
   "metadata": {},
   "outputs": [],
   "source": [
    "train[\"Direct sNIP [W/m^2] 1h\"] = train[\"Direct sNIP [W/m^2]\"].shift(60)\n",
    "train[\"Direct sNIP [W/m^2] 2h\"] = train[\"Direct sNIP [W/m^2]\"].shift(120)\n",
    "train[\"Direct sNIP [W/m^2] 3h\"] = train[\"Direct sNIP [W/m^2]\"].shift(180)\n",
    "train[\"Direct sNIP [W/m^2] 4h\"] = train[\"Direct sNIP [W/m^2]\"].shift(240)\n",
    "train[\"Direct sNIP [W/m^2] 5h\"] = train[\"Direct sNIP [W/m^2]\"].shift(300)\n",
    "train[\"Direct sNIP [W/m^2] 6h\"] = train[\"Direct sNIP [W/m^2]\"].shift(360)\n",
    "\n",
    "train[\"Direct sNIP [W/m^2] 0.5h\"] = train[\"Direct sNIP [W/m^2]\"].shift(30)\n",
    "train[\"Direct sNIP [W/m^2] 1.5h\"] = train[\"Direct sNIP [W/m^2]\"].shift(90)\n",
    "train[\"Direct sNIP [W/m^2] 2.5h\"] = train[\"Direct sNIP [W/m^2]\"].shift(150)\n",
    "train[\"Direct sNIP [W/m^2] 3.5h\"] = train[\"Direct sNIP [W/m^2]\"].shift(210)\n",
    "train[\"Direct sNIP [W/m^2] 4.5h\"] = train[\"Direct sNIP [W/m^2]\"].shift(270)\n",
    "train[\"Direct sNIP [W/m^2] 5.5h\"] = train[\"Direct sNIP [W/m^2]\"].shift(330)"
   ]
  },
  {
   "cell_type": "code",
   "execution_count": 9,
   "metadata": {},
   "outputs": [],
   "source": [
    "train[\"Azimuth Angle [degrees] 1h\"] = train[\"Azimuth Angle [degrees]\"].shift(60)\n",
    "train[\"Azimuth Angle [degrees] 2h\"] = train[\"Azimuth Angle [degrees]\"].shift(120)\n",
    "train[\"Azimuth Angle [degrees] 3h\"] = train[\"Azimuth Angle [degrees]\"].shift(180)\n",
    "train[\"Azimuth Angle [degrees] 4h\"] = train[\"Azimuth Angle [degrees]\"].shift(240)\n",
    "train[\"Azimuth Angle [degrees] 5h\"] = train[\"Azimuth Angle [degrees]\"].shift(300)\n",
    "train[\"Azimuth Angle [degrees] 6h\"] = train[\"Azimuth Angle [degrees]\"].shift(360)\n",
    "\n",
    "train[\"Azimuth Angle [degrees] 0.5h\"] = train[\"Azimuth Angle [degrees]\"].shift(30)\n",
    "train[\"Azimuth Angle [degrees] 1.5h\"] = train[\"Azimuth Angle [degrees]\"].shift(90)\n",
    "train[\"Azimuth Angle [degrees] 2.5h\"] = train[\"Azimuth Angle [degrees]\"].shift(150)\n",
    "train[\"Azimuth Angle [degrees] 3.5h\"] = train[\"Azimuth Angle [degrees]\"].shift(210)\n",
    "train[\"Azimuth Angle [degrees] 4.5h\"] = train[\"Azimuth Angle [degrees]\"].shift(270)\n",
    "train[\"Azimuth Angle [degrees] 5.5h\"] = train[\"Azimuth Angle [degrees]\"].shift(330)"
   ]
  },
  {
   "cell_type": "code",
   "execution_count": 10,
   "metadata": {},
   "outputs": [],
   "source": [
    "train[\"Tower Dry Bulb Temp [deg C] 1h\"] = train[\"Tower Dry Bulb Temp [deg C]\"].shift(60)\n",
    "train[\"Tower Dry Bulb Temp [deg C] 2h\"] = train[\"Tower Dry Bulb Temp [deg C]\"].shift(120)\n",
    "train[\"Tower Dry Bulb Temp [deg C] 3h\"] = train[\"Tower Dry Bulb Temp [deg C]\"].shift(180)\n",
    "train[\"Tower Dry Bulb Temp [deg C] 4h\"] = train[\"Tower Dry Bulb Temp [deg C]\"].shift(240)\n",
    "train[\"Tower Dry Bulb Temp [deg C] 5h\"] = train[\"Tower Dry Bulb Temp [deg C]\"].shift(300)\n",
    "train[\"Tower Dry Bulb Temp [deg C] 6h\"] = train[\"Tower Dry Bulb Temp [deg C]\"].shift(360)\n",
    "\n",
    "train[\"Tower Dry Bulb Temp [deg C] 0.5h\"] = train[\"Tower Dry Bulb Temp [deg C]\"].shift(30)\n",
    "train[\"Tower Dry Bulb Temp [deg C] 1.5h\"] = train[\"Tower Dry Bulb Temp [deg C]\"].shift(90)\n",
    "train[\"Tower Dry Bulb Temp [deg C] 2.5h\"] = train[\"Tower Dry Bulb Temp [deg C]\"].shift(150)\n",
    "train[\"Tower Dry Bulb Temp [deg C] 3.5h\"] = train[\"Tower Dry Bulb Temp [deg C]\"].shift(210)\n",
    "train[\"Tower Dry Bulb Temp [deg C] 4.5h\"] = train[\"Tower Dry Bulb Temp [deg C]\"].shift(270)\n",
    "train[\"Tower Dry Bulb Temp [deg C] 5.5h\"] = train[\"Tower Dry Bulb Temp [deg C]\"].shift(330)"
   ]
  },
  {
   "cell_type": "code",
   "execution_count": 11,
   "metadata": {},
   "outputs": [],
   "source": [
    "train[\"Tower Wet Bulb Temp [deg C] 1h\"] = train[\"Tower Wet Bulb Temp [deg C]\"].shift(60)\n",
    "train[\"Tower Wet Bulb Temp [deg C] 2h\"] = train[\"Tower Wet Bulb Temp [deg C]\"].shift(120)\n",
    "train[\"Tower Wet Bulb Temp [deg C] 3h\"] = train[\"Tower Wet Bulb Temp [deg C]\"].shift(180)\n",
    "train[\"Tower Wet Bulb Temp [deg C] 4h\"] = train[\"Tower Wet Bulb Temp [deg C]\"].shift(240)\n",
    "train[\"Tower Wet Bulb Temp [deg C] 5h\"] = train[\"Tower Wet Bulb Temp [deg C]\"].shift(300)\n",
    "train[\"Tower Wet Bulb Temp [deg C] 6h\"] = train[\"Tower Wet Bulb Temp [deg C]\"].shift(360)\n",
    "\n",
    "train[\"Tower Wet Bulb Temp [deg C] 0.5h\"] = train[\"Tower Wet Bulb Temp [deg C]\"].shift(30)\n",
    "train[\"Tower Wet Bulb Temp [deg C] 1.5h\"] = train[\"Tower Wet Bulb Temp [deg C]\"].shift(90)\n",
    "train[\"Tower Wet Bulb Temp [deg C] 2.5h\"] = train[\"Tower Wet Bulb Temp [deg C]\"].shift(150)\n",
    "train[\"Tower Wet Bulb Temp [deg C] 3.5h\"] = train[\"Tower Wet Bulb Temp [deg C]\"].shift(210)\n",
    "train[\"Tower Wet Bulb Temp [deg C] 4.5h\"] = train[\"Tower Wet Bulb Temp [deg C]\"].shift(270)\n",
    "train[\"Tower Wet Bulb Temp [deg C] 5.5h\"] = train[\"Tower Wet Bulb Temp [deg C]\"].shift(330)"
   ]
  },
  {
   "cell_type": "code",
   "execution_count": 12,
   "metadata": {},
   "outputs": [],
   "source": [
    "train[\"Tower Dew Point Temp [deg C] 1h\"] = train[\"Tower Dew Point Temp [deg C]\"].shift(60)\n",
    "train[\"Tower Dew Point Temp [deg C] 2h\"] = train[\"Tower Dew Point Temp [deg C]\"].shift(120)\n",
    "train[\"Tower Dew Point Temp [deg C] 3h\"] = train[\"Tower Dew Point Temp [deg C]\"].shift(180)\n",
    "train[\"Tower Dew Point Temp [deg C] 4h\"] = train[\"Tower Dew Point Temp [deg C]\"].shift(240)\n",
    "train[\"Tower Dew Point Temp [deg C] 5h\"] = train[\"Tower Dew Point Temp [deg C]\"].shift(300)\n",
    "train[\"Tower Dew Point Temp [deg C] 6h\"] = train[\"Tower Dew Point Temp [deg C]\"].shift(360)\n",
    "\n",
    "train[\"Tower Dew Point Temp [deg C] 0.5h\"] = train[\"Tower Dew Point Temp [deg C]\"].shift(30)\n",
    "train[\"Tower Dew Point Temp [deg C] 1.5h\"] = train[\"Tower Dew Point Temp [deg C]\"].shift(90)\n",
    "train[\"Tower Dew Point Temp [deg C] 2.5h\"] = train[\"Tower Dew Point Temp [deg C]\"].shift(150)\n",
    "train[\"Tower Dew Point Temp [deg C] 3.5h\"] = train[\"Tower Dew Point Temp [deg C]\"].shift(210)\n",
    "train[\"Tower Dew Point Temp [deg C] 4.5h\"] = train[\"Tower Dew Point Temp [deg C]\"].shift(270)\n",
    "train[\"Tower Dew Point Temp [deg C] 5.5h\"] = train[\"Tower Dew Point Temp [deg C]\"].shift(330)"
   ]
  },
  {
   "cell_type": "code",
   "execution_count": 13,
   "metadata": {},
   "outputs": [],
   "source": [
    "train[\"Tower RH [%] 1h\"] = train[\"Tower RH [%]\"].shift(60)\n",
    "train[\"Tower RH [%] 2h\"] = train[\"Tower RH [%]\"].shift(120)\n",
    "train[\"Tower RH [%] 3h\"] = train[\"Tower RH [%]\"].shift(180)\n",
    "train[\"Tower RH [%] 4h\"] = train[\"Tower RH [%]\"].shift(240)\n",
    "train[\"Tower RH [%] 5h\"] = train[\"Tower RH [%]\"].shift(300)\n",
    "train[\"Tower RH [%] 6h\"] = train[\"Tower RH [%]\"].shift(360)\n",
    "\n",
    "train[\"Tower RH [%] 0.5h\"] = train[\"Tower RH [%]\"].shift(30)\n",
    "train[\"Tower RH [%] 1.5h\"] = train[\"Tower RH [%]\"].shift(90)\n",
    "train[\"Tower RH [%] 2.5h\"] = train[\"Tower RH [%]\"].shift(150)\n",
    "train[\"Tower RH [%] 3.5h\"] = train[\"Tower RH [%]\"].shift(210)\n",
    "train[\"Tower RH [%] 4.5h\"] = train[\"Tower RH [%]\"].shift(270)\n",
    "train[\"Tower RH [%] 5.5h\"] = train[\"Tower RH [%]\"].shift(330)"
   ]
  },
  {
   "cell_type": "code",
   "execution_count": 14,
   "metadata": {},
   "outputs": [],
   "source": [
    "train[\"Peak Wind Speed @ 6ft [m/s] 1h\"] = train[\"Peak Wind Speed @ 6ft [m/s]\"].shift(60)\n",
    "train[\"Peak Wind Speed @ 6ft [m/s] 2h\"] = train[\"Peak Wind Speed @ 6ft [m/s]\"].shift(120)\n",
    "train[\"Peak Wind Speed @ 6ft [m/s] 3h\"] = train[\"Peak Wind Speed @ 6ft [m/s]\"].shift(180)\n",
    "train[\"Peak Wind Speed @ 6ft [m/s] 4h\"] = train[\"Peak Wind Speed @ 6ft [m/s]\"].shift(240)\n",
    "train[\"Peak Wind Speed @ 6ft [m/s] 5h\"] = train[\"Peak Wind Speed @ 6ft [m/s]\"].shift(300)\n",
    "train[\"Peak Wind Speed @ 6ft [m/s] 6h\"] = train[\"Peak Wind Speed @ 6ft [m/s]\"].shift(360)\n",
    "\n",
    "train[\"Peak Wind Speed @ 6ft [m/s] 0.5h\"] = train[\"Peak Wind Speed @ 6ft [m/s]\"].shift(30)\n",
    "train[\"Peak Wind Speed @ 6ft [m/s] 1.5h\"] = train[\"Peak Wind Speed @ 6ft [m/s]\"].shift(90)\n",
    "train[\"Peak Wind Speed @ 6ft [m/s] 2.5h\"] = train[\"Peak Wind Speed @ 6ft [m/s]\"].shift(150)\n",
    "train[\"Peak Wind Speed @ 6ft [m/s] 3.5h\"] = train[\"Peak Wind Speed @ 6ft [m/s]\"].shift(210)\n",
    "train[\"Peak Wind Speed @ 6ft [m/s] 4.5h\"] = train[\"Peak Wind Speed @ 6ft [m/s]\"].shift(270)\n",
    "train[\"Peak Wind Speed @ 6ft [m/s] 5.5h\"] = train[\"Peak Wind Speed @ 6ft [m/s]\"].shift(330)"
   ]
  },
  {
   "cell_type": "code",
   "execution_count": 15,
   "metadata": {},
   "outputs": [],
   "source": [
    "train[\"Avg Wind Direction @ 6ft [deg from N] 1h\"] = train[\"Avg Wind Direction @ 6ft [deg from N]\"].shift(60)\n",
    "train[\"Avg Wind Direction @ 6ft [deg from N] 2h\"] = train[\"Avg Wind Direction @ 6ft [deg from N]\"].shift(120)\n",
    "train[\"Avg Wind Direction @ 6ft [deg from N] 3h\"] = train[\"Avg Wind Direction @ 6ft [deg from N]\"].shift(180)\n",
    "train[\"Avg Wind Direction @ 6ft [deg from N] 4h\"] = train[\"Avg Wind Direction @ 6ft [deg from N]\"].shift(240)\n",
    "train[\"Avg Wind Direction @ 6ft [deg from N] 5h\"] = train[\"Avg Wind Direction @ 6ft [deg from N]\"].shift(300)\n",
    "train[\"Avg Wind Direction @ 6ft [deg from N] 6h\"] = train[\"Avg Wind Direction @ 6ft [deg from N]\"].shift(360)\n",
    "\n",
    "train[\"Avg Wind Direction @ 6ft [deg from N] 0.5h\"] = train[\"Avg Wind Direction @ 6ft [deg from N]\"].shift(30)\n",
    "train[\"Avg Wind Direction @ 6ft [deg from N] 1.5h\"] = train[\"Avg Wind Direction @ 6ft [deg from N]\"].shift(90)\n",
    "train[\"Avg Wind Direction @ 6ft [deg from N] 2.5h\"] = train[\"Avg Wind Direction @ 6ft [deg from N]\"].shift(150)\n",
    "train[\"Avg Wind Direction @ 6ft [deg from N] 3.5h\"] = train[\"Avg Wind Direction @ 6ft [deg from N]\"].shift(210)\n",
    "train[\"Avg Wind Direction @ 6ft [deg from N] 4.5h\"] = train[\"Avg Wind Direction @ 6ft [deg from N]\"].shift(270)\n",
    "train[\"Avg Wind Direction @ 6ft [deg from N] 5.5h\"] = train[\"Avg Wind Direction @ 6ft [deg from N]\"].shift(330)"
   ]
  },
  {
   "cell_type": "code",
   "execution_count": 16,
   "metadata": {},
   "outputs": [],
   "source": [
    "train[\"Station Pressure [mBar] 1h\"] = train[\"Station Pressure [mBar]\"].shift(60)\n",
    "train[\"Station Pressure [mBar] 2h\"] = train[\"Station Pressure [mBar]\"].shift(120)\n",
    "train[\"Station Pressure [mBar] 3h\"] = train[\"Station Pressure [mBar]\"].shift(180)\n",
    "train[\"Station Pressure [mBar] 4h\"] = train[\"Station Pressure [mBar]\"].shift(240)\n",
    "train[\"Station Pressure [mBar] 5h\"] = train[\"Station Pressure [mBar]\"].shift(300)\n",
    "train[\"Station Pressure [mBar] 6h\"] = train[\"Station Pressure [mBar]\"].shift(360)\n",
    "\n",
    "train[\"Station Pressure [mBar] 0.5h\"] = train[\"Station Pressure [mBar]\"].shift(30)\n",
    "train[\"Station Pressure [mBar] 1.5h\"] = train[\"Station Pressure [mBar]\"].shift(90)\n",
    "train[\"Station Pressure [mBar] 2.5h\"] = train[\"Station Pressure [mBar]\"].shift(150)\n",
    "train[\"Station Pressure [mBar] 3.5h\"] = train[\"Station Pressure [mBar]\"].shift(210)\n",
    "train[\"Station Pressure [mBar] 4.5h\"] = train[\"Station Pressure [mBar]\"].shift(270)\n",
    "train[\"Station Pressure [mBar] 5.5h\"] = train[\"Station Pressure [mBar]\"].shift(330)"
   ]
  },
  {
   "cell_type": "code",
   "execution_count": 17,
   "metadata": {},
   "outputs": [],
   "source": [
    "train[\"Precipitation (Accumulated) [mm] 1h\"] = train[\"Precipitation (Accumulated) [mm]\"].shift(60)\n",
    "train[\"Precipitation (Accumulated) [mm] 2h\"] = train[\"Precipitation (Accumulated) [mm]\"].shift(120)\n",
    "train[\"Precipitation (Accumulated) [mm] 3h\"] = train[\"Precipitation (Accumulated) [mm]\"].shift(180)\n",
    "train[\"Precipitation (Accumulated) [mm] 4h\"] = train[\"Precipitation (Accumulated) [mm]\"].shift(240)\n",
    "train[\"Precipitation (Accumulated) [mm] 5h\"] = train[\"Precipitation (Accumulated) [mm]\"].shift(300)\n",
    "train[\"Precipitation (Accumulated) [mm] 6h\"] = train[\"Precipitation (Accumulated) [mm]\"].shift(360)\n",
    "\n",
    "train[\"Precipitation (Accumulated) [mm] 0.5h\"] = train[\"Precipitation (Accumulated) [mm]\"].shift(30)\n",
    "train[\"Precipitation (Accumulated) [mm] 1.5h\"] = train[\"Precipitation (Accumulated) [mm]\"].shift(90)\n",
    "train[\"Precipitation (Accumulated) [mm] 2.5h\"] = train[\"Precipitation (Accumulated) [mm]\"].shift(150)\n",
    "train[\"Precipitation (Accumulated) [mm] 3.5h\"] = train[\"Precipitation (Accumulated) [mm]\"].shift(210)\n",
    "train[\"Precipitation (Accumulated) [mm] 4.5h\"] = train[\"Precipitation (Accumulated) [mm]\"].shift(270)\n",
    "train[\"Precipitation (Accumulated) [mm] 5.5h\"] = train[\"Precipitation (Accumulated) [mm]\"].shift(330)"
   ]
  },
  {
   "cell_type": "code",
   "execution_count": 18,
   "metadata": {},
   "outputs": [],
   "source": [
    "train[\"Snow Depth [cm] 1h\"] = train[\"Snow Depth [cm]\"].shift(60)\n",
    "train[\"Snow Depth [cm] 2h\"] = train[\"Snow Depth [cm]\"].shift(120)\n",
    "train[\"Snow Depth [cm] 3h\"] = train[\"Snow Depth [cm]\"].shift(180)\n",
    "train[\"Snow Depth [cm] 4h\"] = train[\"Snow Depth [cm]\"].shift(240)\n",
    "train[\"Snow Depth [cm] 5h\"] = train[\"Snow Depth [cm]\"].shift(300)\n",
    "train[\"Snow Depth [cm] 6h\"] = train[\"Snow Depth [cm]\"].shift(360)\n",
    "\n",
    "train[\"Snow Depth [cm] 0.5h\"] = train[\"Snow Depth [cm]\"].shift(30)\n",
    "train[\"Snow Depth [cm] 1.5h\"] = train[\"Snow Depth [cm]\"].shift(90)\n",
    "train[\"Snow Depth [cm] 2.5h\"] = train[\"Snow Depth [cm]\"].shift(150)\n",
    "train[\"Snow Depth [cm] 3.5h\"] = train[\"Snow Depth [cm]\"].shift(210)\n",
    "train[\"Snow Depth [cm] 4.5h\"] = train[\"Snow Depth [cm]\"].shift(270)\n",
    "train[\"Snow Depth [cm] 5.5h\"] = train[\"Snow Depth [cm]\"].shift(330)"
   ]
  },
  {
   "cell_type": "code",
   "execution_count": 19,
   "metadata": {},
   "outputs": [],
   "source": [
    "train[\"Moisture 1h\"] = train[\"Moisture\"].shift(60)\n",
    "train[\"Moisture 2h\"] = train[\"Moisture\"].shift(120)\n",
    "train[\"Moisture 3h\"] = train[\"Moisture\"].shift(180)\n",
    "train[\"Moisture 4h\"] = train[\"Moisture\"].shift(240)\n",
    "train[\"Moisture 5h\"] = train[\"Moisture\"].shift(300)\n",
    "train[\"Moisture 6h\"] = train[\"Moisture\"].shift(360)\n",
    "\n",
    "train[\"Moisture 0.5h\"] = train[\"Moisture\"].shift(30)\n",
    "train[\"Moisture 1.5h\"] = train[\"Moisture\"].shift(90)\n",
    "train[\"Moisture 2.5h\"] = train[\"Moisture\"].shift(150)\n",
    "train[\"Moisture 3.5h\"] = train[\"Moisture\"].shift(210)\n",
    "train[\"Moisture 4.5h\"] = train[\"Moisture\"].shift(270)\n",
    "train[\"Moisture 5.5h\"] = train[\"Moisture\"].shift(330)"
   ]
  },
  {
   "cell_type": "code",
   "execution_count": 20,
   "metadata": {},
   "outputs": [],
   "source": [
    "train[\"Albedo (CMP11) 1h\"] = train[\"Albedo (CMP11)\"].shift(60)\n",
    "train[\"Albedo (CMP11) 2h\"] = train[\"Albedo (CMP11)\"].shift(120)\n",
    "train[\"Albedo (CMP11) 3h\"] = train[\"Albedo (CMP11)\"].shift(180)\n",
    "train[\"Albedo (CMP11) 4h\"] = train[\"Albedo (CMP11)\"].shift(240)\n",
    "train[\"Albedo (CMP11) 5h\"] = train[\"Albedo (CMP11)\"].shift(300)\n",
    "train[\"Albedo (CMP11) 6h\"] = train[\"Albedo (CMP11)\"].shift(360)\n",
    "\n",
    "train[\"Albedo (CMP11) 0.5h\"] = train[\"Albedo (CMP11)\"].shift(30)\n",
    "train[\"Albedo (CMP11) 1.5h\"] = train[\"Albedo (CMP11)\"].shift(90)\n",
    "train[\"Albedo (CMP11) 2.5h\"] = train[\"Albedo (CMP11)\"].shift(150)\n",
    "train[\"Albedo (CMP11) 3.5h\"] = train[\"Albedo (CMP11)\"].shift(210)\n",
    "train[\"Albedo (CMP11) 4.5h\"] = train[\"Albedo (CMP11)\"].shift(270)\n",
    "train[\"Albedo (CMP11) 5.5h\"] = train[\"Albedo (CMP11)\"].shift(330)"
   ]
  },
  {
   "cell_type": "code",
   "execution_count": 21,
   "metadata": {},
   "outputs": [],
   "source": [
    "train = train.dropna()"
   ]
  },
  {
   "cell_type": "code",
   "execution_count": 22,
   "metadata": {},
   "outputs": [],
   "source": [
    "X = train[['Global CMP22 (vent/cor) [W/m^2]',\n",
    "'Direct sNIP [W/m^2]',\n",
    "'Azimuth Angle [degrees]',\n",
    "'Tower Dry Bulb Temp [deg C]',\n",
    "'Tower Wet Bulb Temp [deg C]',\n",
    "'Tower Dew Point Temp [deg C]',\n",
    "'Tower RH [%]',\n",
    "'Total Cloud Cover [%]',\n",
    "'Peak Wind Speed @ 6ft [m/s]',\n",
    "'Avg Wind Direction @ 6ft [deg from N]',\n",
    "'Station Pressure [mBar]',\n",
    "'Precipitation (Accumulated) [mm]',\n",
    "'Snow Depth [cm]',\n",
    "'Moisture',\n",
    "'Albedo (CMP11)',\n",
    "'Global CMP22 (vent/cor) [W/m^2] 1h',\n",
    "'Global CMP22 (vent/cor) [W/m^2] 2h',\n",
    "'Global CMP22 (vent/cor) [W/m^2] 3h',\n",
    "'Global CMP22 (vent/cor) [W/m^2] 4h',\n",
    "'Global CMP22 (vent/cor) [W/m^2] 5h',\n",
    "'Global CMP22 (vent/cor) [W/m^2] 6h',\n",
    "'Global CMP22 (vent/cor) [W/m^2] 0.5h',\n",
    "'Global CMP22 (vent/cor) [W/m^2] 1.5h',\n",
    "'Global CMP22 (vent/cor) [W/m^2] 2.5h',\n",
    "'Global CMP22 (vent/cor) [W/m^2] 3.5h',\n",
    "'Global CMP22 (vent/cor) [W/m^2] 4.5h',\n",
    "'Global CMP22 (vent/cor) [W/m^2] 5.5h',\n",
    "'Direct sNIP [W/m^2] 1h',\n",
    "'Direct sNIP [W/m^2] 2h',\n",
    "'Direct sNIP [W/m^2] 3h',\n",
    "'Direct sNIP [W/m^2] 4h',\n",
    "'Direct sNIP [W/m^2] 5h',\n",
    "'Direct sNIP [W/m^2] 6h',\n",
    "'Direct sNIP [W/m^2] 0.5h',\n",
    "'Direct sNIP [W/m^2] 1.5h',\n",
    "'Direct sNIP [W/m^2] 2.5h',\n",
    "'Direct sNIP [W/m^2] 3.5h',\n",
    "'Direct sNIP [W/m^2] 4.5h',\n",
    "'Direct sNIP [W/m^2] 5.5h',\n",
    "'Azimuth Angle [degrees] 1h',\n",
    "'Azimuth Angle [degrees] 2h',\n",
    "'Azimuth Angle [degrees] 3h',\n",
    "'Azimuth Angle [degrees] 4h',\n",
    "'Azimuth Angle [degrees] 5h',\n",
    "'Azimuth Angle [degrees] 6h',\n",
    "'Azimuth Angle [degrees] 0.5h',\n",
    "'Azimuth Angle [degrees] 1.5h',\n",
    "'Azimuth Angle [degrees] 2.5h',\n",
    "'Azimuth Angle [degrees] 3.5h',\n",
    "'Azimuth Angle [degrees] 4.5h',\n",
    "'Azimuth Angle [degrees] 5.5h',\n",
    "'Tower Dry Bulb Temp [deg C] 1h',\n",
    "'Tower Dry Bulb Temp [deg C] 2h',\n",
    "'Tower Dry Bulb Temp [deg C] 3h',\n",
    "'Tower Dry Bulb Temp [deg C] 4h',\n",
    "'Tower Dry Bulb Temp [deg C] 5h',\n",
    "'Tower Dry Bulb Temp [deg C] 6h',\n",
    "'Tower Dry Bulb Temp [deg C] 0.5h',\n",
    "'Tower Dry Bulb Temp [deg C] 1.5h',\n",
    "'Tower Dry Bulb Temp [deg C] 2.5h',\n",
    "'Tower Dry Bulb Temp [deg C] 3.5h',\n",
    "'Tower Dry Bulb Temp [deg C] 4.5h',\n",
    "'Tower Dry Bulb Temp [deg C] 5.5h',\n",
    "'Tower Wet Bulb Temp [deg C] 1h',\n",
    "'Tower Wet Bulb Temp [deg C] 2h',\n",
    "'Tower Wet Bulb Temp [deg C] 3h',\n",
    "'Tower Wet Bulb Temp [deg C] 4h',\n",
    "'Tower Wet Bulb Temp [deg C] 5h',\n",
    "'Tower Wet Bulb Temp [deg C] 6h',\n",
    "'Tower Wet Bulb Temp [deg C] 0.5h',\n",
    "'Tower Wet Bulb Temp [deg C] 1.5h',\n",
    "'Tower Wet Bulb Temp [deg C] 2.5h',\n",
    "'Tower Wet Bulb Temp [deg C] 3.5h',\n",
    "'Tower Wet Bulb Temp [deg C] 4.5h',\n",
    "'Tower Wet Bulb Temp [deg C] 5.5h',\n",
    "'Tower Dew Point Temp [deg C] 1h',\n",
    "'Tower Dew Point Temp [deg C] 2h',\n",
    "'Tower Dew Point Temp [deg C] 3h',\n",
    "'Tower Dew Point Temp [deg C] 4h',\n",
    "'Tower Dew Point Temp [deg C] 5h',\n",
    "'Tower Dew Point Temp [deg C] 6h',\n",
    "'Tower Dew Point Temp [deg C] 0.5h',\n",
    "'Tower Dew Point Temp [deg C] 1.5h',\n",
    "'Tower Dew Point Temp [deg C] 2.5h',\n",
    "'Tower Dew Point Temp [deg C] 3.5h',\n",
    "'Tower Dew Point Temp [deg C] 4.5h',\n",
    "'Tower Dew Point Temp [deg C] 5.5h',\n",
    "'Tower RH [%] 1h',\n",
    "'Tower RH [%] 2h',\n",
    "'Tower RH [%] 3h',\n",
    "'Tower RH [%] 4h',\n",
    "'Tower RH [%] 5h',\n",
    "'Tower RH [%] 6h',\n",
    "'Tower RH [%] 0.5h',\n",
    "'Tower RH [%] 1.5h',\n",
    "'Tower RH [%] 2.5h',\n",
    "'Tower RH [%] 3.5h',\n",
    "'Tower RH [%] 4.5h',\n",
    "'Tower RH [%] 5.5h',\n",
    "'Peak Wind Speed @ 6ft [m/s] 1h',\n",
    "'Peak Wind Speed @ 6ft [m/s] 2h',\n",
    "'Peak Wind Speed @ 6ft [m/s] 3h',\n",
    "'Peak Wind Speed @ 6ft [m/s] 4h',\n",
    "'Peak Wind Speed @ 6ft [m/s] 5h',\n",
    "'Peak Wind Speed @ 6ft [m/s] 6h',\n",
    "'Peak Wind Speed @ 6ft [m/s] 0.5h',\n",
    "'Peak Wind Speed @ 6ft [m/s] 1.5h',\n",
    "'Peak Wind Speed @ 6ft [m/s] 2.5h',\n",
    "'Peak Wind Speed @ 6ft [m/s] 3.5h',\n",
    "'Peak Wind Speed @ 6ft [m/s] 4.5h',\n",
    "'Peak Wind Speed @ 6ft [m/s] 5.5h',\n",
    "'Avg Wind Direction @ 6ft [deg from N] 1h',\n",
    "'Avg Wind Direction @ 6ft [deg from N] 2h',\n",
    "'Avg Wind Direction @ 6ft [deg from N] 3h',\n",
    "'Avg Wind Direction @ 6ft [deg from N] 4h',\n",
    "'Avg Wind Direction @ 6ft [deg from N] 5h',\n",
    "'Avg Wind Direction @ 6ft [deg from N] 6h',\n",
    "'Avg Wind Direction @ 6ft [deg from N] 0.5h',\n",
    "'Avg Wind Direction @ 6ft [deg from N] 1.5h',\n",
    "'Avg Wind Direction @ 6ft [deg from N] 2.5h',\n",
    "'Avg Wind Direction @ 6ft [deg from N] 3.5h',\n",
    "'Avg Wind Direction @ 6ft [deg from N] 4.5h',\n",
    "'Avg Wind Direction @ 6ft [deg from N] 5.5h',\n",
    "'Station Pressure [mBar] 1h',\n",
    "'Station Pressure [mBar] 2h',\n",
    "'Station Pressure [mBar] 3h',\n",
    "'Station Pressure [mBar] 4h',\n",
    "'Station Pressure [mBar] 5h',\n",
    "'Station Pressure [mBar] 6h',\n",
    "'Station Pressure [mBar] 0.5h',\n",
    "'Station Pressure [mBar] 1.5h',\n",
    "'Station Pressure [mBar] 2.5h',\n",
    "'Station Pressure [mBar] 3.5h',\n",
    "'Station Pressure [mBar] 4.5h',\n",
    "'Station Pressure [mBar] 5.5h',\n",
    "'Precipitation (Accumulated) [mm] 1h',\n",
    "'Precipitation (Accumulated) [mm] 2h',\n",
    "'Precipitation (Accumulated) [mm] 3h',\n",
    "'Precipitation (Accumulated) [mm] 4h',\n",
    "'Precipitation (Accumulated) [mm] 5h',\n",
    "'Precipitation (Accumulated) [mm] 6h',\n",
    "'Precipitation (Accumulated) [mm] 0.5h',\n",
    "'Precipitation (Accumulated) [mm] 1.5h',\n",
    "'Precipitation (Accumulated) [mm] 2.5h',\n",
    "'Precipitation (Accumulated) [mm] 3.5h',\n",
    "'Precipitation (Accumulated) [mm] 4.5h',\n",
    "'Precipitation (Accumulated) [mm] 5.5h',\n",
    "'Snow Depth [cm] 1h',\n",
    "'Snow Depth [cm] 2h',\n",
    "'Snow Depth [cm] 3h',\n",
    "'Snow Depth [cm] 4h',\n",
    "'Snow Depth [cm] 5h',\n",
    "'Snow Depth [cm] 6h',\n",
    "'Snow Depth [cm] 0.5h',\n",
    "'Snow Depth [cm] 1.5h',\n",
    "'Snow Depth [cm] 2.5h',\n",
    "'Snow Depth [cm] 3.5h',\n",
    "'Snow Depth [cm] 4.5h',\n",
    "'Snow Depth [cm] 5.5h',\n",
    "'Moisture 1h',\n",
    "'Moisture 2h',\n",
    "'Moisture 3h',\n",
    "'Moisture 4h',\n",
    "'Moisture 5h',\n",
    "'Moisture 6h',\n",
    "'Moisture 0.5h',\n",
    "'Moisture 1.5h',\n",
    "'Moisture 2.5h',\n",
    "'Moisture 3.5h',\n",
    "'Moisture 4.5h',\n",
    "'Moisture 5.5h',\n",
    "'Albedo (CMP11) 1h',\n",
    "'Albedo (CMP11) 2h',\n",
    "'Albedo (CMP11) 3h',\n",
    "'Albedo (CMP11) 4h',\n",
    "'Albedo (CMP11) 5h',\n",
    "'Albedo (CMP11) 6h',\n",
    "'Albedo (CMP11) 0.5h',\n",
    "'Albedo (CMP11) 1.5h',\n",
    "'Albedo (CMP11) 2.5h',\n",
    "'Albedo (CMP11) 3.5h',\n",
    "'Albedo (CMP11) 4.5h',\n",
    "'Albedo (CMP11) 5.5h']]"
   ]
  },
  {
   "cell_type": "code",
   "execution_count": 23,
   "metadata": {},
   "outputs": [],
   "source": [
    "y = train[['30m']]"
   ]
  },
  {
   "cell_type": "code",
   "execution_count": 24,
   "metadata": {},
   "outputs": [],
   "source": [
    "from sklearn.ensemble import RandomForestRegressor\n",
    "reg = RandomForestRegressor(n_estimators = 10)"
   ]
  },
  {
   "cell_type": "code",
   "execution_count": 25,
   "metadata": {},
   "outputs": [
    {
     "name": "stderr",
     "output_type": "stream",
     "text": [
      "C:\\Users\\flutura_user1\\anaconda3\\lib\\site-packages\\ipykernel_launcher.py:1: DataConversionWarning: A column-vector y was passed when a 1d array was expected. Please change the shape of y to (n_samples,), for example using ravel().\n",
      "  \"\"\"Entry point for launching an IPython kernel.\n"
     ]
    },
    {
     "data": {
      "text/plain": [
       "RandomForestRegressor(bootstrap=True, ccp_alpha=0.0, criterion='mse',\n",
       "                      max_depth=None, max_features='auto', max_leaf_nodes=None,\n",
       "                      max_samples=None, min_impurity_decrease=0.0,\n",
       "                      min_impurity_split=None, min_samples_leaf=1,\n",
       "                      min_samples_split=2, min_weight_fraction_leaf=0.0,\n",
       "                      n_estimators=10, n_jobs=None, oob_score=False,\n",
       "                      random_state=None, verbose=0, warm_start=False)"
      ]
     },
     "execution_count": 25,
     "metadata": {},
     "output_type": "execute_result"
    }
   ],
   "source": [
    "reg.fit(X,y)"
   ]
  },
  {
   "cell_type": "code",
   "execution_count": 26,
   "metadata": {},
   "outputs": [],
   "source": [
    "y1 = train[['60m']]\n",
    "y2 = train[['90m']]\n",
    "y3 = train[['120m']]"
   ]
  },
  {
   "cell_type": "code",
   "execution_count": 27,
   "metadata": {},
   "outputs": [],
   "source": [
    "reg1 = RandomForestRegressor(n_estimators = 10)\n",
    "reg2 = RandomForestRegressor(n_estimators = 10)\n",
    "reg3 = RandomForestRegressor(n_estimators = 10)"
   ]
  },
  {
   "cell_type": "code",
   "execution_count": 28,
   "metadata": {},
   "outputs": [
    {
     "name": "stderr",
     "output_type": "stream",
     "text": [
      "C:\\Users\\flutura_user1\\anaconda3\\lib\\site-packages\\ipykernel_launcher.py:1: DataConversionWarning: A column-vector y was passed when a 1d array was expected. Please change the shape of y to (n_samples,), for example using ravel().\n",
      "  \"\"\"Entry point for launching an IPython kernel.\n"
     ]
    },
    {
     "data": {
      "text/plain": [
       "RandomForestRegressor(bootstrap=True, ccp_alpha=0.0, criterion='mse',\n",
       "                      max_depth=None, max_features='auto', max_leaf_nodes=None,\n",
       "                      max_samples=None, min_impurity_decrease=0.0,\n",
       "                      min_impurity_split=None, min_samples_leaf=1,\n",
       "                      min_samples_split=2, min_weight_fraction_leaf=0.0,\n",
       "                      n_estimators=10, n_jobs=None, oob_score=False,\n",
       "                      random_state=None, verbose=0, warm_start=False)"
      ]
     },
     "execution_count": 28,
     "metadata": {},
     "output_type": "execute_result"
    }
   ],
   "source": [
    "reg1.fit(X,y1)"
   ]
  },
  {
   "cell_type": "code",
   "execution_count": 29,
   "metadata": {},
   "outputs": [
    {
     "name": "stderr",
     "output_type": "stream",
     "text": [
      "C:\\Users\\flutura_user1\\anaconda3\\lib\\site-packages\\ipykernel_launcher.py:1: DataConversionWarning: A column-vector y was passed when a 1d array was expected. Please change the shape of y to (n_samples,), for example using ravel().\n",
      "  \"\"\"Entry point for launching an IPython kernel.\n"
     ]
    },
    {
     "data": {
      "text/plain": [
       "RandomForestRegressor(bootstrap=True, ccp_alpha=0.0, criterion='mse',\n",
       "                      max_depth=None, max_features='auto', max_leaf_nodes=None,\n",
       "                      max_samples=None, min_impurity_decrease=0.0,\n",
       "                      min_impurity_split=None, min_samples_leaf=1,\n",
       "                      min_samples_split=2, min_weight_fraction_leaf=0.0,\n",
       "                      n_estimators=10, n_jobs=None, oob_score=False,\n",
       "                      random_state=None, verbose=0, warm_start=False)"
      ]
     },
     "execution_count": 29,
     "metadata": {},
     "output_type": "execute_result"
    }
   ],
   "source": [
    "reg2.fit(X,y2)"
   ]
  },
  {
   "cell_type": "code",
   "execution_count": 30,
   "metadata": {},
   "outputs": [
    {
     "name": "stderr",
     "output_type": "stream",
     "text": [
      "C:\\Users\\flutura_user1\\anaconda3\\lib\\site-packages\\ipykernel_launcher.py:1: DataConversionWarning: A column-vector y was passed when a 1d array was expected. Please change the shape of y to (n_samples,), for example using ravel().\n",
      "  \"\"\"Entry point for launching an IPython kernel.\n"
     ]
    },
    {
     "data": {
      "text/plain": [
       "RandomForestRegressor(bootstrap=True, ccp_alpha=0.0, criterion='mse',\n",
       "                      max_depth=None, max_features='auto', max_leaf_nodes=None,\n",
       "                      max_samples=None, min_impurity_decrease=0.0,\n",
       "                      min_impurity_split=None, min_samples_leaf=1,\n",
       "                      min_samples_split=2, min_weight_fraction_leaf=0.0,\n",
       "                      n_estimators=10, n_jobs=None, oob_score=False,\n",
       "                      random_state=None, verbose=0, warm_start=False)"
      ]
     },
     "execution_count": 30,
     "metadata": {},
     "output_type": "execute_result"
    }
   ],
   "source": [
    "reg3.fit(X,y3)"
   ]
  },
  {
   "cell_type": "code",
   "execution_count": 31,
   "metadata": {},
   "outputs": [
    {
     "data": {
      "text/plain": [
       "['my_random_forest3.joblib']"
      ]
     },
     "execution_count": 31,
     "metadata": {},
     "output_type": "execute_result"
    }
   ],
   "source": [
    "import joblib\n",
    "joblib.dump(reg, \"my_random_forest.joblib\")\n",
    "joblib.dump(reg1, \"my_random_forest1.joblib\")\n",
    "joblib.dump(reg2, \"my_random_forest2.joblib\")\n",
    "joblib.dump(reg3, \"my_random_forest3.joblib\")"
   ]
  },
  {
   "cell_type": "code",
   "execution_count": null,
   "metadata": {},
   "outputs": [],
   "source": []
  }
 ],
 "metadata": {
  "kernelspec": {
   "display_name": "Python 3",
   "language": "python",
   "name": "python3"
  },
  "language_info": {
   "codemirror_mode": {
    "name": "ipython",
    "version": 3
   },
   "file_extension": ".py",
   "mimetype": "text/x-python",
   "name": "python",
   "nbconvert_exporter": "python",
   "pygments_lexer": "ipython3",
   "version": "3.7.6"
  }
 },
 "nbformat": 4,
 "nbformat_minor": 4
}
